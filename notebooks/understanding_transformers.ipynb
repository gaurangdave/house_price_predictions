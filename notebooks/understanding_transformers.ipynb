{
 "cells": [
  {
   "cell_type": "markdown",
   "metadata": {},
   "source": [
    "# Understanding Transformers\n",
    "* This is just a practise notebook to get a better understanding of transformers, column transformers and pipelines in `SciKit Learn`"
   ]
  },
  {
   "cell_type": "code",
   "execution_count": 1,
   "metadata": {},
   "outputs": [],
   "source": [
    "from pathlib import Path\n",
    "import numpy as np\n",
    "import pandas as pd\n",
    "import matplotlib.pyplot as plt\n",
    "import plotly.express as px\n",
    "from sklearn.model_selection import train_test_split, StratifiedShuffleSplit\n",
    "from sklearn.impute import SimpleImputer\n",
    "from sklearn.preprocessing import OneHotEncoder, MinMaxScaler, StandardScaler\n",
    "from sklearn.metrics.pairwise import rbf_kernel\n",
    "from sklearn.pipeline import Pipeline,make_pipeline\n",
    "from sklearn.preprocessing import FunctionTransformer\n",
    "from sklearn.compose import ColumnTransformer"
   ]
  },
  {
   "cell_type": "markdown",
   "metadata": {},
   "source": [
    "## Creating Mock Data"
   ]
  },
  {
   "cell_type": "code",
   "execution_count": 2,
   "metadata": {},
   "outputs": [],
   "source": [
    "df = pd.DataFrame({'a': [1, 2, 3], 'b': [10, 30, 40], 'c': [10, 10, 10]})"
   ]
  },
  {
   "cell_type": "markdown",
   "metadata": {},
   "source": [
    "### Function Transformer"
   ]
  },
  {
   "cell_type": "code",
   "execution_count": 8,
   "metadata": {},
   "outputs": [],
   "source": [
    "## sample transfomer to test the input/output\n",
    "\n",
    "## a simple transformer function\n",
    "def hello_transformer(X):\n",
    "    ## transformers always need to return a 2D array (numpy array, scipy sparse array, dataframe)\n",
    "    ## create column name from first two columns\n",
    "    column_lst = X.iloc[:,[0,1]].columns\n",
    "    col_name = f\"{column_lst[0]}_to_{column_lst[1]}_ratio\"\n",
    "    ## here we are not checking if columns are numbers or not\n",
    "    ## we are assuming that they are numbers and not 0\n",
    "    result = pd.DataFrame(X.iloc[:,0] / X.iloc[:,1])\n",
    "    result.columns = [col_name]\n",
    "    return result\n",
    "\n",
    "# a callable function for output names\n",
    "def ratio_name(function_transformer, feature_names_in):\n",
    "    col_name = f\"{feature_names_in[0]}_to_{feature_names_in[1]}_ratio\"\n",
    "    return [col_name]  # feature names out\n",
    "\n",
    "## using FunctionTransformer to create a transformer out of our function\n",
    "my_transformer = FunctionTransformer(hello_transformer, feature_names_out=ratio_name)\n",
    "\n",
    "## creating a column transfomer\n",
    "temp_transformer = ColumnTransformer([\n",
    "    (\"hello\", my_transformer, [\"a\", \"b\"])\n",
    "])"
   ]
  },
  {
   "cell_type": "code",
   "execution_count": 9,
   "metadata": {},
   "outputs": [
    {
     "data": {
      "text/plain": [
       "array([[0.1       ],\n",
       "       [0.06666667],\n",
       "       [0.075     ]])"
      ]
     },
     "execution_count": 9,
     "metadata": {},
     "output_type": "execute_result"
    }
   ],
   "source": [
    "## fit transform to df_features\n",
    "temp_transformer.fit_transform(df)"
   ]
  },
  {
   "cell_type": "code",
   "execution_count": 10,
   "metadata": {},
   "outputs": [
    {
     "data": {
      "text/plain": [
       "array(['hello__a_to_b_ratio'], dtype=object)"
      ]
     },
     "execution_count": 10,
     "metadata": {},
     "output_type": "execute_result"
    }
   ],
   "source": [
    "## get transformed column names\n",
    "temp_transformer.get_feature_names_out()"
   ]
  },
  {
   "cell_type": "code",
   "execution_count": 11,
   "metadata": {},
   "outputs": [
    {
     "data": {
      "text/html": [
       "<div>\n",
       "<style scoped>\n",
       "    .dataframe tbody tr th:only-of-type {\n",
       "        vertical-align: middle;\n",
       "    }\n",
       "\n",
       "    .dataframe tbody tr th {\n",
       "        vertical-align: top;\n",
       "    }\n",
       "\n",
       "    .dataframe thead th {\n",
       "        text-align: right;\n",
       "    }\n",
       "</style>\n",
       "<table border=\"1\" class=\"dataframe\">\n",
       "  <thead>\n",
       "    <tr style=\"text-align: right;\">\n",
       "      <th></th>\n",
       "      <th>hello__a_to_b_ratio</th>\n",
       "    </tr>\n",
       "  </thead>\n",
       "  <tbody>\n",
       "    <tr>\n",
       "      <th>0</th>\n",
       "      <td>0.100000</td>\n",
       "    </tr>\n",
       "    <tr>\n",
       "      <th>1</th>\n",
       "      <td>0.066667</td>\n",
       "    </tr>\n",
       "    <tr>\n",
       "      <th>2</th>\n",
       "      <td>0.075000</td>\n",
       "    </tr>\n",
       "  </tbody>\n",
       "</table>\n",
       "</div>"
      ],
      "text/plain": [
       "   hello__a_to_b_ratio\n",
       "0             0.100000\n",
       "1             0.066667\n",
       "2             0.075000"
      ]
     },
     "execution_count": 11,
     "metadata": {},
     "output_type": "execute_result"
    }
   ],
   "source": [
    "## create dataframe from transformed data\n",
    "pd.DataFrame(temp_transformer.fit_transform(df), columns=temp_transformer.get_feature_names_out())"
   ]
  },
  {
   "cell_type": "markdown",
   "metadata": {},
   "source": [
    "Lessons Learnt:\n",
    "* Transformations always need to return a 2D array (numpy array, scipy sparse array, dataframe), for now as a rule, we'll convert all the custom transformer return data to DataFrame\n"
   ]
  },
  {
   "cell_type": "markdown",
   "metadata": {},
   "source": [
    "* I wonder if we number of columns returned in one transformer is less, does another transformer in the sequence get fewer columns?"
   ]
  },
  {
   "cell_type": "code",
   "execution_count": 15,
   "metadata": {},
   "outputs": [
    {
     "data": {
      "text/html": [
       "<div>\n",
       "<style scoped>\n",
       "    .dataframe tbody tr th:only-of-type {\n",
       "        vertical-align: middle;\n",
       "    }\n",
       "\n",
       "    .dataframe tbody tr th {\n",
       "        vertical-align: top;\n",
       "    }\n",
       "\n",
       "    .dataframe thead th {\n",
       "        text-align: right;\n",
       "    }\n",
       "</style>\n",
       "<table border=\"1\" class=\"dataframe\">\n",
       "  <thead>\n",
       "    <tr style=\"text-align: right;\">\n",
       "      <th></th>\n",
       "      <th>a_to_b_ratio</th>\n",
       "      <th>b_to_c_ratio</th>\n",
       "      <th>double</th>\n",
       "    </tr>\n",
       "  </thead>\n",
       "  <tbody>\n",
       "    <tr>\n",
       "      <th>0</th>\n",
       "      <td>0.100000</td>\n",
       "      <td>1.0</td>\n",
       "      <td>2</td>\n",
       "    </tr>\n",
       "    <tr>\n",
       "      <th>1</th>\n",
       "      <td>0.066667</td>\n",
       "      <td>3.0</td>\n",
       "      <td>4</td>\n",
       "    </tr>\n",
       "    <tr>\n",
       "      <th>2</th>\n",
       "      <td>0.075000</td>\n",
       "      <td>4.0</td>\n",
       "      <td>6</td>\n",
       "    </tr>\n",
       "  </tbody>\n",
       "</table>\n",
       "</div>"
      ],
      "text/plain": [
       "   a_to_b_ratio  b_to_c_ratio  double\n",
       "0      0.100000           1.0       2\n",
       "1      0.066667           3.0       4\n",
       "2      0.075000           4.0       6"
      ]
     },
     "execution_count": 15,
     "metadata": {},
     "output_type": "execute_result"
    }
   ],
   "source": [
    "def hello_again_transformer(X):\n",
    "    ## transformers always need to return a 2D array (numpy array, scipy sparse array, dataframe)\n",
    "    result = pd.DataFrame(X.iloc[:,0] * 2)\n",
    "    result.columns = [\"double\"]\n",
    "    return result\n",
    "\n",
    "# a callable function for output names\n",
    "def again_ratio_name(function_transformer, feature_names_in):\n",
    "    return [\"double\"]  # feature names out\n",
    "\n",
    "## using FunctionTransformer to create a transformer out of our function\n",
    "my_another_transformer = FunctionTransformer(hello_again_transformer, feature_names_out=again_ratio_name)\n",
    "\n",
    "# base_estimator = FunctionTransformer(lambda X: X, feature_names_out=\"one-to-one\")\n",
    "\n",
    "## creating a column transfomer\n",
    "temp_transformer_2 = ColumnTransformer([\n",
    "    (\"room_to_house\", my_transformer, [\"a\", \"b\"]),\n",
    "    (\"room_to_bedroom\", my_transformer, [\"b\", \"c\"]),\n",
    "    (\"hello_again\", my_another_transformer, [\"a\",\"b\"])\n",
    "], remainder=\"passthrough\", verbose_feature_names_out=False)\n",
    "\n",
    "## set output to pandas if we want output to be a pandas dataframe.\n",
    "temp_transformer_2.set_output(transform=\"pandas\")\n",
    "## fit transform to df_features\n",
    "temp_transformer_2.fit_transform(df)"
   ]
  },
  {
   "cell_type": "code",
   "execution_count": 16,
   "metadata": {},
   "outputs": [
    {
     "data": {
      "text/html": [
       "<div>\n",
       "<style scoped>\n",
       "    .dataframe tbody tr th:only-of-type {\n",
       "        vertical-align: middle;\n",
       "    }\n",
       "\n",
       "    .dataframe tbody tr th {\n",
       "        vertical-align: top;\n",
       "    }\n",
       "\n",
       "    .dataframe thead th {\n",
       "        text-align: right;\n",
       "    }\n",
       "</style>\n",
       "<table border=\"1\" class=\"dataframe\">\n",
       "  <thead>\n",
       "    <tr style=\"text-align: right;\">\n",
       "      <th></th>\n",
       "      <th>a_to_b_ratio</th>\n",
       "      <th>b_to_c_ratio</th>\n",
       "      <th>double</th>\n",
       "    </tr>\n",
       "  </thead>\n",
       "  <tbody>\n",
       "    <tr>\n",
       "      <th>0</th>\n",
       "      <td>0.100000</td>\n",
       "      <td>1.0</td>\n",
       "      <td>2</td>\n",
       "    </tr>\n",
       "    <tr>\n",
       "      <th>1</th>\n",
       "      <td>0.066667</td>\n",
       "      <td>3.0</td>\n",
       "      <td>4</td>\n",
       "    </tr>\n",
       "    <tr>\n",
       "      <th>2</th>\n",
       "      <td>0.075000</td>\n",
       "      <td>4.0</td>\n",
       "      <td>6</td>\n",
       "    </tr>\n",
       "  </tbody>\n",
       "</table>\n",
       "</div>"
      ],
      "text/plain": [
       "   a_to_b_ratio  b_to_c_ratio  double\n",
       "0      0.100000           1.0       2\n",
       "1      0.066667           3.0       4\n",
       "2      0.075000           4.0       6"
      ]
     },
     "execution_count": 16,
     "metadata": {},
     "output_type": "execute_result"
    }
   ],
   "source": [
    "## interesting even if the output is DataFrame, pd.DataFrame doesn't throw and error\n",
    "transformed_data = pd.DataFrame(temp_transformer_2.fit_transform(df), columns=temp_transformer_2.get_feature_names_out())\n",
    "transformed_data"
   ]
  },
  {
   "cell_type": "markdown",
   "metadata": {},
   "source": [
    "Lessons Learnt:\n",
    "* We'll have to set the `columns` attribute in our transformers to make sure the pipelines work as expected. \n",
    "* Also we need to create dynamic column names if we don't want `remainder` prefix in all the remaining columns.  "
   ]
  },
  {
   "cell_type": "markdown",
   "metadata": {},
   "source": [
    "### Custom Class Transformer"
   ]
  },
  {
   "cell_type": "markdown",
   "metadata": {},
   "source": [
    "* Lets create a simple transformer calculates the column median, doubles it and scales all the rows with it.  "
   ]
  },
  {
   "cell_type": "code",
   "execution_count": 17,
   "metadata": {},
   "outputs": [],
   "source": [
    "from sklearn.base import BaseEstimator,TransformerMixin\n",
    "from sklearn.utils.validation import check_array, check_is_fitted\n",
    "from sklearn.pipeline import Pipeline\n",
    "\n",
    "class SimpleMedianScaler(BaseEstimator, TransformerMixin):\n",
    "    ## A simple constructor with no hyperparams\n",
    "    def __init__(self):\n",
    "        pass\n",
    "\n",
    "    ## implement fit method        \n",
    "    def fit(self, X, y=None):\n",
    "        ## validate if X is finite numeric array        \n",
    "        ## check_array always returns np array and not a dataframe\n",
    "        checked_X = check_array(X)\n",
    "        \n",
    "        self.n_features_in_ = checked_X.shape[1]\n",
    "        self.feature_names_in_ = X.columns\n",
    "                \n",
    "        self.median_ = np.median(checked_X, axis=0)\n",
    "        # print(np.median(X, axis=0))\n",
    "\n",
    "        return self\n",
    "    \n",
    "    def transform(self, X):\n",
    "        ## check if its fitted\n",
    "        check_is_fitted(self, ['median_', 'n_features_in_', 'feature_names_in_'])\n",
    "        ## check if its valid finite numeric array\n",
    "        X = check_array(X)\n",
    "        ## check if number of features match\n",
    "        assert self.n_features_in_ == X.shape[1]\n",
    "        return pd.DataFrame(X*self.median_*2, columns=self.feature_names_in_)\n",
    "    \n",
    "    def get_feature_names_out(self, names=None):\n",
    "        # return [f\"{feature}_scaled\" for feature in self.feature_names_in_]\n",
    "        return self.feature_names_in_"
   ]
  },
  {
   "cell_type": "code",
   "execution_count": 18,
   "metadata": {},
   "outputs": [
    {
     "data": {
      "text/html": [
       "<div>\n",
       "<style scoped>\n",
       "    .dataframe tbody tr th:only-of-type {\n",
       "        vertical-align: middle;\n",
       "    }\n",
       "\n",
       "    .dataframe tbody tr th {\n",
       "        vertical-align: top;\n",
       "    }\n",
       "\n",
       "    .dataframe thead th {\n",
       "        text-align: right;\n",
       "    }\n",
       "</style>\n",
       "<table border=\"1\" class=\"dataframe\">\n",
       "  <thead>\n",
       "    <tr style=\"text-align: right;\">\n",
       "      <th></th>\n",
       "      <th>a</th>\n",
       "      <th>b</th>\n",
       "      <th>c</th>\n",
       "    </tr>\n",
       "  </thead>\n",
       "  <tbody>\n",
       "    <tr>\n",
       "      <th>0</th>\n",
       "      <td>4.0</td>\n",
       "      <td>600.0</td>\n",
       "      <td>200.0</td>\n",
       "    </tr>\n",
       "    <tr>\n",
       "      <th>1</th>\n",
       "      <td>8.0</td>\n",
       "      <td>1800.0</td>\n",
       "      <td>200.0</td>\n",
       "    </tr>\n",
       "    <tr>\n",
       "      <th>2</th>\n",
       "      <td>12.0</td>\n",
       "      <td>2400.0</td>\n",
       "      <td>200.0</td>\n",
       "    </tr>\n",
       "  </tbody>\n",
       "</table>\n",
       "</div>"
      ],
      "text/plain": [
       "      a       b      c\n",
       "0   4.0   600.0  200.0\n",
       "1   8.0  1800.0  200.0\n",
       "2  12.0  2400.0  200.0"
      ]
     },
     "execution_count": 18,
     "metadata": {},
     "output_type": "execute_result"
    }
   ],
   "source": [
    "## using the transformer as it is\n",
    "smi = SimpleMedianScaler()\n",
    "smi_data = smi.fit_transform(df)\n",
    "smi_data"
   ]
  },
  {
   "cell_type": "markdown",
   "metadata": {},
   "source": [
    "Lessons Learnt:\n",
    "* Check array converts dataframe to `ndarray`, so pandas dataframe methods won't work.\n"
   ]
  },
  {
   "cell_type": "markdown",
   "metadata": {},
   "source": [
    "* Lets use this in our ColumnTransformer"
   ]
  },
  {
   "cell_type": "code",
   "execution_count": 20,
   "metadata": {},
   "outputs": [
    {
     "data": {
      "text/html": [
       "<div>\n",
       "<style scoped>\n",
       "    .dataframe tbody tr th:only-of-type {\n",
       "        vertical-align: middle;\n",
       "    }\n",
       "\n",
       "    .dataframe tbody tr th {\n",
       "        vertical-align: top;\n",
       "    }\n",
       "\n",
       "    .dataframe thead th {\n",
       "        text-align: right;\n",
       "    }\n",
       "</style>\n",
       "<table border=\"1\" class=\"dataframe\">\n",
       "  <thead>\n",
       "    <tr style=\"text-align: right;\">\n",
       "      <th></th>\n",
       "      <th>a</th>\n",
       "      <th>b</th>\n",
       "      <th>c</th>\n",
       "      <th>a_to_b_ratio</th>\n",
       "      <th>b_to_c_ratio</th>\n",
       "      <th>double</th>\n",
       "    </tr>\n",
       "  </thead>\n",
       "  <tbody>\n",
       "    <tr>\n",
       "      <th>0</th>\n",
       "      <td>4.0</td>\n",
       "      <td>600.0</td>\n",
       "      <td>200.0</td>\n",
       "      <td>0.100000</td>\n",
       "      <td>1.0</td>\n",
       "      <td>2</td>\n",
       "    </tr>\n",
       "    <tr>\n",
       "      <th>1</th>\n",
       "      <td>8.0</td>\n",
       "      <td>1800.0</td>\n",
       "      <td>200.0</td>\n",
       "      <td>0.066667</td>\n",
       "      <td>3.0</td>\n",
       "      <td>4</td>\n",
       "    </tr>\n",
       "    <tr>\n",
       "      <th>2</th>\n",
       "      <td>12.0</td>\n",
       "      <td>2400.0</td>\n",
       "      <td>200.0</td>\n",
       "      <td>0.075000</td>\n",
       "      <td>4.0</td>\n",
       "      <td>6</td>\n",
       "    </tr>\n",
       "  </tbody>\n",
       "</table>\n",
       "</div>"
      ],
      "text/plain": [
       "      a       b      c  a_to_b_ratio  b_to_c_ratio  double\n",
       "0   4.0   600.0  200.0      0.100000           1.0       2\n",
       "1   8.0  1800.0  200.0      0.066667           3.0       4\n",
       "2  12.0  2400.0  200.0      0.075000           4.0       6"
      ]
     },
     "execution_count": 20,
     "metadata": {},
     "output_type": "execute_result"
    }
   ],
   "source": [
    "## creating a column transfomer\n",
    "temp_transformer_3 = ColumnTransformer([\n",
    "    (\"simple_median_imputer\", SimpleMedianScaler(), [\"a\",\"b\",\"c\"]),\n",
    "    (\"room_to_house\", my_transformer, [\"a\", \"b\"]),\n",
    "    (\"room_to_bedroom\", my_transformer, [\"b\", \"c\"]),\n",
    "    (\"hello_again\", my_another_transformer, [\"a\",\"c\"]),\n",
    "    # (\"simple_median_imputer\", SimpleMedianScaler(), [\"total_rooms\",\"households\"])\n",
    "], remainder=\"passthrough\", verbose_feature_names_out=False)\n",
    "\n",
    "## set output to pandas if we want output to be a pandas dataframe.\n",
    "temp_transformer_3.set_output(transform=\"pandas\")\n",
    "## fit transform to df_features\n",
    "temp_transformer_3.fit_transform(df)"
   ]
  },
  {
   "cell_type": "markdown",
   "metadata": {},
   "source": [
    "Lessons Learnt:\n",
    "*  Column transformer renames the columns and returns new ones, doens't keep the original columns if we rename in return.\n",
    "* Each transformer in column transformer gets pre transformed copy of the data frame. One transformer chagnes are not reflected in another transformer. (For that we'll need pipelines.)"
   ]
  },
  {
   "cell_type": "markdown",
   "metadata": {},
   "source": [
    "* Lets try creating `Pipelines` where we'll create a simple scale using our `SimpleMedianScaler` and then find column ratios"
   ]
  },
  {
   "cell_type": "code",
   "execution_count": 21,
   "metadata": {},
   "outputs": [
    {
     "data": {
      "text/html": [
       "<div>\n",
       "<style scoped>\n",
       "    .dataframe tbody tr th:only-of-type {\n",
       "        vertical-align: middle;\n",
       "    }\n",
       "\n",
       "    .dataframe tbody tr th {\n",
       "        vertical-align: top;\n",
       "    }\n",
       "\n",
       "    .dataframe thead th {\n",
       "        text-align: right;\n",
       "    }\n",
       "</style>\n",
       "<table border=\"1\" class=\"dataframe\">\n",
       "  <thead>\n",
       "    <tr style=\"text-align: right;\">\n",
       "      <th></th>\n",
       "      <th>a</th>\n",
       "      <th>b</th>\n",
       "      <th>a_to_b_ratio</th>\n",
       "      <th>a_to_c_ratio</th>\n",
       "      <th>b_to_b_ratio</th>\n",
       "    </tr>\n",
       "  </thead>\n",
       "  <tbody>\n",
       "    <tr>\n",
       "      <th>0</th>\n",
       "      <td>4.0</td>\n",
       "      <td>600.0</td>\n",
       "      <td>0.100000</td>\n",
       "      <td>0.1</td>\n",
       "      <td>1.0</td>\n",
       "    </tr>\n",
       "    <tr>\n",
       "      <th>1</th>\n",
       "      <td>8.0</td>\n",
       "      <td>1800.0</td>\n",
       "      <td>0.066667</td>\n",
       "      <td>0.2</td>\n",
       "      <td>1.0</td>\n",
       "    </tr>\n",
       "    <tr>\n",
       "      <th>2</th>\n",
       "      <td>12.0</td>\n",
       "      <td>2400.0</td>\n",
       "      <td>0.075000</td>\n",
       "      <td>0.3</td>\n",
       "      <td>1.0</td>\n",
       "    </tr>\n",
       "  </tbody>\n",
       "</table>\n",
       "</div>"
      ],
      "text/plain": [
       "      a       b  a_to_b_ratio  a_to_c_ratio  b_to_b_ratio\n",
       "0   4.0   600.0      0.100000           0.1           1.0\n",
       "1   8.0  1800.0      0.066667           0.2           1.0\n",
       "2  12.0  2400.0      0.075000           0.3           1.0"
      ]
     },
     "execution_count": 21,
     "metadata": {},
     "output_type": "execute_result"
    }
   ],
   "source": [
    "# first column transfomer to test\n",
    "temp_transformer_3 = ColumnTransformer([\n",
    "    (\"simple_median_scaler\", SimpleMedianScaler(),\n",
    "     [\"a\", \"b\"]),\n",
    "    (\"a_to_b\", my_transformer, [\"a\", \"b\"]),\n",
    "    (\"a_to_c\", my_transformer, [\"a\", \"c\"]),\n",
    "    (\"b_to_c\", my_transformer, [\"b\", \"b\"]),\n",
    "], remainder=\"passthrough\", verbose_feature_names_out=False)\n",
    "\n",
    "# set output to pandas if we want output to be a pandas dataframe.\n",
    "temp_transformer_3.set_output(transform=\"pandas\")\n",
    "# fit transform to df_features\n",
    "transformed_df = temp_transformer_3.fit_transform(df)\n",
    "transformed_df\n"
   ]
  },
  {
   "cell_type": "code",
   "execution_count": 22,
   "metadata": {},
   "outputs": [
    {
     "data": {
      "text/html": [
       "<div>\n",
       "<style scoped>\n",
       "    .dataframe tbody tr th:only-of-type {\n",
       "        vertical-align: middle;\n",
       "    }\n",
       "\n",
       "    .dataframe tbody tr th {\n",
       "        vertical-align: top;\n",
       "    }\n",
       "\n",
       "    .dataframe thead th {\n",
       "        text-align: right;\n",
       "    }\n",
       "</style>\n",
       "<table border=\"1\" class=\"dataframe\">\n",
       "  <thead>\n",
       "    <tr style=\"text-align: right;\">\n",
       "      <th></th>\n",
       "      <th>a_to_b_ratio</th>\n",
       "    </tr>\n",
       "  </thead>\n",
       "  <tbody>\n",
       "    <tr>\n",
       "      <th>0</th>\n",
       "      <td>0.006667</td>\n",
       "    </tr>\n",
       "    <tr>\n",
       "      <th>1</th>\n",
       "      <td>0.004444</td>\n",
       "    </tr>\n",
       "    <tr>\n",
       "      <th>2</th>\n",
       "      <td>0.005000</td>\n",
       "    </tr>\n",
       "  </tbody>\n",
       "</table>\n",
       "</div>"
      ],
      "text/plain": [
       "   a_to_b_ratio\n",
       "0      0.006667\n",
       "1      0.004444\n",
       "2      0.005000"
      ]
     },
     "execution_count": 22,
     "metadata": {},
     "output_type": "execute_result"
    }
   ],
   "source": [
    "# creating pipelines in same order\n",
    "## this piple line scales the data and then find the ratio\n",
    "temp_pipe_line = Pipeline([\n",
    "    (\"simple_median_scaler\", SimpleMedianScaler()),\n",
    "    (\"a_to_b\", my_transformer)\n",
    "])\n",
    "\n",
    "transformed_df = temp_pipe_line.fit_transform(df)\n",
    "transformed_df"
   ]
  },
  {
   "cell_type": "code",
   "execution_count": 23,
   "metadata": {},
   "outputs": [
    {
     "data": {
      "text/plain": [
       "array(['a_to_b_ratio'], dtype=object)"
      ]
     },
     "execution_count": 23,
     "metadata": {},
     "output_type": "execute_result"
    }
   ],
   "source": [
    "temp_pipe_line.get_feature_names_out()"
   ]
  },
  {
   "cell_type": "markdown",
   "metadata": {},
   "source": [
    "Lessons Learnt:\n",
    "* So pipelines are the ones that we want to use if we want column transformation to pass over each other. \n",
    "* We can then use the pipelines in Column Transformers if we want to apply the pipelines to certain columns only and get back a fully transformed dataset. \n",
    "* Pipelines and column transformers can be very power full tools, but implementing them needs certain planning and thinking, for e.g. \n",
    "    * We can agree on best practise that they always return a DataFrame, so they work consistently in everywhere. \n",
    "    * We need to think about where to add a pipeline and where to add a colunn transformer.\n",
    "    * We need to make sure that any columns that are not transformed but necessary for model training are retained in the dataframe"
   ]
  },
  {
   "cell_type": "markdown",
   "metadata": {},
   "source": []
  }
 ],
 "metadata": {
  "kernelspec": {
   "display_name": "ml",
   "language": "python",
   "name": "python3"
  },
  "language_info": {
   "codemirror_mode": {
    "name": "ipython",
    "version": 3
   },
   "file_extension": ".py",
   "mimetype": "text/x-python",
   "name": "python",
   "nbconvert_exporter": "python",
   "pygments_lexer": "ipython3",
   "version": "3.12.2"
  }
 },
 "nbformat": 4,
 "nbformat_minor": 2
}
