{
 "cells": [
  {
   "cell_type": "markdown",
   "metadata": {},
   "source": [
    "# Download All Available Models"
   ]
  },
  {
   "cell_type": "markdown",
   "metadata": {},
   "source": [
    "Run this file to download all the models from the Google Drive into `models` directory."
   ]
  },
  {
   "cell_type": "code",
   "execution_count": 12,
   "metadata": {},
   "outputs": [],
   "source": [
    "## import the necessary libraries\n",
    "import gdown\n",
    "from pathlib import Path"
   ]
  },
  {
   "cell_type": "code",
   "execution_count": 13,
   "metadata": {},
   "outputs": [
    {
     "name": "stderr",
     "output_type": "stream",
     "text": [
      "Retrieving folder contents\n"
     ]
    },
    {
     "name": "stdout",
     "output_type": "stream",
     "text": [
      "Processing file 10R-BbZ9dA_62M4edry-s_gWkq3RzY-QE random_forest_model_v0_1.joblib\n"
     ]
    },
    {
     "name": "stderr",
     "output_type": "stream",
     "text": [
      "Retrieving folder contents completed\n",
      "Building directory structure\n",
      "Building directory structure completed\n",
      "Downloading...\n",
      "From (original): https://drive.google.com/uc?id=10R-BbZ9dA_62M4edry-s_gWkq3RzY-QE\n",
      "From (redirected): https://drive.google.com/uc?id=10R-BbZ9dA_62M4edry-s_gWkq3RzY-QE&confirm=t&uuid=b9a13ce0-a233-4088-b08f-37e581865483\n",
      "To: /home/gaurangdave/workspace/house_price_predictions/models/random_forest_model_v0_1.joblib\n",
      "100%|██████████| 189M/189M [00:01<00:00, 115MB/s]  \n",
      "Download completed\n"
     ]
    },
    {
     "data": {
      "text/plain": [
       "['../models/random_forest_model_v0_1.joblib']"
      ]
     },
     "execution_count": 13,
     "metadata": {},
     "output_type": "execute_result"
    }
   ],
   "source": [
    "## download all models from google drive\n",
    "url = 'https://drive.google.com/drive/folders/1_HihZZk7T5_InmIxBiKHxLoZVjr8YYXO?usp=drive_link'\n",
    "output = str(Path('..', 'models'))\n",
    "\n",
    "## download the models\n",
    "gdown.download_folder(url=url, output=output, quiet=False)\n"
   ]
  },
  {
   "cell_type": "code",
   "execution_count": null,
   "metadata": {},
   "outputs": [],
   "source": []
  }
 ],
 "metadata": {
  "kernelspec": {
   "display_name": "ml",
   "language": "python",
   "name": "python3"
  },
  "language_info": {
   "codemirror_mode": {
    "name": "ipython",
    "version": 3
   },
   "file_extension": ".py",
   "mimetype": "text/x-python",
   "name": "python",
   "nbconvert_exporter": "python",
   "pygments_lexer": "ipython3",
   "version": "3.12.2"
  }
 },
 "nbformat": 4,
 "nbformat_minor": 2
}
